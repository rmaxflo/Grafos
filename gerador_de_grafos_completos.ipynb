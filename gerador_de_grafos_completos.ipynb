{
 "cells": [
  {
   "cell_type": "markdown",
   "metadata": {},
   "source": [
    "# Gerador de Instâncias de Grafos"
   ]
  },
  {
   "cell_type": "code",
   "execution_count": 1,
   "metadata": {},
   "outputs": [],
   "source": [
    "import random\n",
    "# Gerar grafos completos K com pesos nas arestas aleatórios\n",
    "def gerar_grafo_completo(num_vertices, p_min, p_max, arquivo=0):\n",
    "    i = 0\n",
    "    j = 0\n",
    "    matriz = []\n",
    "    for i in range(0, num_vertices):\n",
    "        linha = []\n",
    "        for j in range (0, num_vertices):\n",
    "            if i == j:\n",
    "                peso = 0\n",
    "            else:\n",
    "                peso = random.randint(p_min, p_max)\n",
    "            linha.append(peso)\n",
    "        matriz.append(linha)\n",
    "    # AJUSTANDO Aij = Aji\n",
    "    for i in range(0, num_vertices):\n",
    "        for j in range(0, num_vertices):\n",
    "            if matriz[i][j] != matriz[j][i]:\n",
    "                matriz[j][i] = matriz[i][j]\n",
    "    if arquivo != 0:\n",
    "        nome_arquivo = arquivo + \".txt\"\n",
    "        # Converter a matriz em uma representação em string\n",
    "        matriz_em_texto = \"\\n\".join([\"\\t\".join(map(str, linha)) for linha in matriz])\n",
    "        with open(nome_arquivo, \"w\") as arquivo:\n",
    "            arquivo.write(matriz_em_texto)\n",
    "        print(\"Arquivo de instância gerado:\", nome_arquivo)\n",
    "    return matriz"
   ]
  },
  {
   "cell_type": "code",
   "execution_count": null,
   "metadata": {},
   "outputs": [],
   "source": [
    "grafo = gerar_grafo_completo(6, 0, 15, \"instancia\")"
   ]
  }
 ],
 "metadata": {
  "celltoolbar": "Slideshow",
  "colab": {
   "authorship_tag": "ABX9TyPqulp23gBSG0UUeKo7vo3n",
   "provenance": []
  },
  "kernelspec": {
   "display_name": "Python 3 (ipykernel)",
   "language": "python",
   "name": "python3"
  },
  "language_info": {
   "codemirror_mode": {
    "name": "ipython",
    "version": 3
   },
   "file_extension": ".py",
   "mimetype": "text/x-python",
   "name": "python",
   "nbconvert_exporter": "python",
   "pygments_lexer": "ipython3",
   "version": "3.8.2"
  }
 },
 "nbformat": 4,
 "nbformat_minor": 1
}
