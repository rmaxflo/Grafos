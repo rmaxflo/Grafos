{
  "nbformat": 4,
  "nbformat_minor": 0,
  "metadata": {
    "colab": {
      "provenance": []
    },
    "kernelspec": {
      "name": "python3",
      "display_name": "Python 3"
    },
    "language_info": {
      "name": "python"
    }
  },
  "cells": [
    {
      "cell_type": "markdown",
      "source": [
        "###**Analisando e extraindo informações de arquivos com instâncias de Grafos**\n",
        "\n",
        "---\n",
        "\n"
      ],
      "metadata": {
        "id": "oV9IhpXjsGIA"
      }
    },
    {
      "cell_type": "code",
      "source": [
        "# Função para ler as instâncias de arquivos de matrizes... # os dados no arquivo com dados deve estar separados por \",\" vírgula.\n",
        "def ler_arquivo_instancia(arquivo):\n",
        "  matriz = []\n",
        "  with open(arquivo, \"r\") as arquivo:\n",
        "    for linha in arquivo:\n",
        "      # remove o caractere de quebra de linha do final da linha\n",
        "      linha = linha.rstrip(\", \\n\")\n",
        "      linha = (linha.split(\", \"))\n",
        "      i=0\n",
        "      for elemento in linha:\n",
        "        linha[i] = int(elemento)   # Modifique int para float para mudar o tipo de dado\n",
        "        i+=1\n",
        "      matriz.append(linha)\n",
        "  return matriz"
      ],
      "metadata": {
        "id": "y-M1_tg1FgHR"
      },
      "execution_count": 59,
      "outputs": []
    },
    {
      "cell_type": "code",
      "source": [
        "from google.colab import drive\n",
        "drive.mount('/content/drive')"
      ],
      "metadata": {
        "colab": {
          "base_uri": "https://localhost:8080/"
        },
        "id": "wb1RkScIKTL9",
        "outputId": "08ee6741-5511-4820-a015-c3d3b22c0124"
      },
      "execution_count": 55,
      "outputs": [
        {
          "output_type": "stream",
          "name": "stdout",
          "text": [
            "Drive already mounted at /content/drive; to attempt to forcibly remount, call drive.mount(\"/content/drive\", force_remount=True).\n"
          ]
        }
      ]
    },
    {
      "cell_type": "markdown",
      "source": [
        "#**Modifique aqui o aquivo da instância a ser lida**\n",
        "Se for fazer upload comente o path e use somente \" \". Se estiver no seu GDrive cole o caminho na string. \n",
        "Na tabela abaixo estão algumas informações sobre as instâncias para fazer os testes nos algorimtos.\n",
        "\n",
        "![image.png](data:image/png;base64,iVBORw0KGgoAAAANSUhEUgAAAYoAAAFHCAYAAAC/CAt6AAAgAElEQVR4nO3db2hTad74/3d/DPeznyA+WpZRi0nvxR3k17Hpg+Sm987QdmxkYVqkYZAl2i2JOswk1VW0neHuzUyrrKs2s9zWBLcaBpGIVGGYxG3L6rfczYOmnX4pXdltIqnK95EMgt8n97P8HpxzkpN/J+kfzZ9+XhDQnHOuc3LSnM91fa7rnKthZWUlhRBCCFHEewC/+MUvKn0cQmza8vIyBw4cqPRhiDLId1U7lpeX+X8qfRBCCCGqmwQKIYQQhiRQCCGEMCSBQgghhCEJFEIIIQxJoBBCCL2Z0+zatUt5nZ4pulpy5jSHDh3KrLtrF4cOnebGTFJXVGbZrkM3SBYoZ+b0oZLrVJoECiGE0JkJBzP/CYbJDxVJbhzaRYsjSCwWy1oSiwUZcvxZ3SZJ4ql+4UP+mhcFZggHY7lvVh0JFEIIkTZDOAhYRhhxAgQJ50SK5I2TDMUALDhHFlj4+Wd+/vlnfv55gYWQE4slv1SLxQLEGPrzTE5ZfyKYXl69JFAIIYRmJqxcuD/9hBN2JwDBrEgxw5+VKIEz9IirJxppTC9rpLH9Ko8eXaU9p9j9n36KRSlM10JJ8teHMcDCp5/ufxufZstIoBBCCJWSdrLw6SeNsK8p/+KuBhJwYs+NBkZMn/CpUlimhZL8K0qc+JRPTFty+G+NBAohhABI3uBPSnOCTxqBxgIXd42liX3qP7M6rHftYteu0wX6NRr5RCks3UJJ/vUhSpz4RNcqqU4SKKpSkpkbpzmk/+M7VOiPTwixVbQLN7EhWnbtYteuFrUvIjf9BMRWebbO8hs/0aeftBSW2nqpchIoqtDM6RYcQ0GyxkLECtRqhBBbROsvKEJLP2npKF0ro/2q2pm9MIJhl7SuhfKnQ0onNs4/cKL648T2DRTJmRucPn0ou9a+axe7Dh3i9I0bzFRqMLPW/BVCvDtafwFOQulRTMpIphF9+qnxBH9Q+rgJOg5xel0XikZOqBtrw2qd6+roqJxtFyiSM0pKp8UxRDAYI68OEYsRHBrC0bKLQ6dn3vnNL+nmr8oZWlBrKwt8URt/U0LUnPTvzmnPGbGk61v4k3IzXPvVEE4LQIygoyVTyWwZyr+e5Gq340z/Z50d4hW0rQJF8sYh5SaZMtePBR38uaLpHif2drVd2thY9R1ewoB2t28FKh+ilEzaqVANv9GkDl1N90u0c/XRAqGR/HsmLBYnI6Ev8obHZrRj1yJFXlCqXtsnUMycpmUoO0RYLE5CCwu6ZubPLCyEGHFW980volKUO3J37drFoRsFLvdaMMh7DMMMpx1BwEnoavvGA37yhpoqlYENW6uRE4+U3//VQlfu9qvq9UF/f0Qj7Seu8ujRz1nXj0ePrnJCq9wVKTfdp5H9pvLeoxNVWSHcJoFC+6FmWEYWlBtjGrO/lsbGdk5cfcTPC1rzUl/MjUyfxukZ8kYn6Z8Lk1SX5TwLZteuQxw6nd8Hog2xyw5mQRxGz4BJznCjQD9L7vNmxFbJpCFiD/+a931oj37IHe6o3H1rwRnKvxGrmOSNQ8UDkhDv2PYIFOmbZFTOEI9KDTVobOfqo9waxmombfU0wY3c0UlPE8rFI3mDQy3qslhuoitGLKj0gRg8b6yEpPIgsRYHQwX6WZTnzbTIkNq3ID3EMe+5PeqjHwoMd2w88Yiff35UuLa6rp2f4FFezVaIt29bBIqsh3xhYWQreoVjQwwVG530bLWsfpCgY2MX8pnTLTjKeZBYLIijSp9GWbPSQxxjPNRHimSCp5C5WUt7O+d+mOwBEjOcVluL6ZbpodOcPpRpWcaGWnQtC3X9rNRTMufpo9l/U8b7V0b/HTqUae2ubxSP2C62QaDIeYJjzg9505wh9aFgCyyMq/nFfU1YsGBxjuT0gSwQcuo3fkpC/V1qecuFEX2+SzdUT8td5g2ftTASWtD1sYyQtYvYUIU75OtN4fRTobtskzcO0ZJzP0ws6KAltykZG8q/b6ZMeZWGWBCHWn7J/SdvcNIxRKbRGyOYfvKpEBnvVfoA3r5nrOp/KftN2Z1FyRscKjqszcLIwqPiN8RYRlhId042ku7uaDzBo59PFNigkfYvRrAEtf3FWH0G6+m9yh4+m398jY0nuLoAT3WfKRie4Wq7JCu2SuMnn2IZihGLPeSvyROcaNQ93C1dC8nceZv+jpIznD7pIBgMM3O1PTt95Azp/pau8sWNQ7QMxZS+tPQXnHMvcLrSkNlHcuY0JxP7ytu/1vK1jLDw6ASNyRlunAy/lXNWyPLy8jvbl9icbRAoNsP4Qu78g/EIheTMDf78p4c8jRW4X2NDcu4eLdY6avyETy26muLTBEk2MdpGZEufXyX9dOIT3cPd0nFC6xeLMdSyi6GsApSWZHpwjJoOXff3k77QZ/bb2H6VR+3AzJ9L77/djtMSJBgbomXXEBbnCH8Yf3f9HwcOHHhHexKbsby8vB1STzm0Due3SpvYZIjglgWJAnJbR2mNmKr7qcU1Tpd+Wn1W+Ye7Ff07KCX7fgBlkMUhZKCVyLUNAsU+mvRp/9zRKumRJIX6CDZm5nTmYWKiPmUe8PYnTualndA9E8jJyEL2WPuffzZIZ+aIrZbx6Lngn9IX9+TMaQ6dnilv/zOnOXT6GfvU+wFCTmVynYf507CJbW4bBIpM7U/xtn8I2jBJjZOQ/oda6sFh61G0dZTTgS+2nm70Uyw37QS6ZwIFGWrJfZ5Y6ZFo6buBg47i91O0f6E+hyiW3kf6yQNl7j8WdKhPSt2V7hTfb5Ikpci2DQKFrvanig21bOIehvWxjHyhy0VvVk5KqeAcvOgecKYeQw087772ZFdACp3j9qsLhJyWjVUM2r/QPSHAUuTi3ciJRwtZTxKwWEYIqcO/S+6//Qu1FZHeGGdoYfP3e4i6sz06sxtPMD7yMOuu56BjF0+dIca/aM+MViLJs9Wt3XXs4V9JnlA6vZMz6nDETZTXbndCUGuyxBg6eRrT+NV0MMrfR208774WNZ54RMHBbZk1aL/6iParxZa3c/Xnnym8uJETVx9x4mqp9QutV+7+leU/F10utsYMp3c5COIkVKM3S26LFgVA44nxnHsY1GZ3VrO8zBvZDOke+gW6SVCUzu1Nd12k0w1a+UEcus+Quw/LyHhNPO9eiNKUmwuNbiCsRjOnHQShvEe4VOnzvLZNoFBqT+oIj7K3sdC0r/Raudq/MOqH2GAqIq2RE48KPIeq0J7KeVSJEDVhhtOHlIpc7g2EJ7domNZbeb6Weq+LZSQ/pVdLz/PaRoEC0k98/HmB0MgITkuBi7bFgsXpZCS0wELe6JQm3foWmoru5gSPCjyFVnla7aP0xCclWYrtQXkO1UJI+Qw5G6l3hP/MI0k2izoxc9qB0tjXP4lgIbuPpRqpoyrLrrBV6fO8GlZWVlK/+MUvKn0cQmza8vKy3MRVI9b3XWk5fnCGijwKvFA/QPqpC5n3kjM3OPkn7WZUC87QOFfb4cah/CHtmbvik8zcOMmfhjKtGYtzhPGrRjfcGm2TNNjfs5zPoa7LCAt/WOWkNqrN4mRk/CqfPDud9V5I11+5sePOt7y8vE06s4UQtUt74OJmZ4RL5g70UJ5tZf/5C8PNlOdpZb8XCw7R8hTl0Sfr3uaT9R97bIgWR1ZhDLUEs++4jwVxnGxKH9NGjruYbZZ6EkLUnDKfxlx2OZYR5UGeCyF1YIgywZB2s61lREltPTrRmP08rfS0xGofZLEHbpbcxmB/RrQHkOruxbJo72kjdbRZ+DZy3AYkUAghtod2uzIIRB2JeOjPCWVoudE2+udppaclPpHuZ3yaKNARvZFtStI9D6zRhHI7lZM/aA+SzJqLe+uPQQKFEKK6pR9HEiS8qTGj8myrjZJAIYSobunHpUDQcUg3za863XDWYxa0YJJkJuuR/JT9bKus52tpQUr/FARdWqfgzazr3Kas53mt10aO24AECiFElWvkxLiWl48p0/xqN8imJ2bKPPwz6NCW5fdsGD3bquDztXTP9Eo/M0ub68X5h8I3s5a5TVnP89qojRy3AQkUQojqV/DeJOWeoYWr7SjBRH8jqgVnKJT9FINSz7Yq+Hyt/OdpKfsNqfsteLDlbVPW87w2aiPHXZzcRyHqhtxHUTvku6od23PiIiGEEOsigUIIIYQhCRRCCCEMSaAQQghhqGFlZSX16tWrSh+HEEKIKvUewG8O/r+VPg4hNu3J4v+Vv+Ua8WTx//Kb3/ym0ochyvDkyRNJPQkhhDAmgUIIIYQhCRRCCCEMSaAQQghhSAKFEEIIQxIohBBCGJJAIYQQwpAECiGEEIaqIFDM4W5voWFHH763MNFT5W3m873E5+mjYUeL8mofJfJsPctF7XuJr65/HzUu4cPW0EBDgZfNl6j00W2ZKggUb1fieh+29hbcU5U+kvV6ia+9G++t5cxb85PYm0eJlLW8PJs9P7V7fmtD4vp/4OUA1kofiNjWqiBQ2PDPLJB6M4Fn39aXHv/nMtH5rS+3fBv8fFPf450HWs8QXlog9eYBY60AkzycKmN5mTZ7fip/fuvZHJfPw5j/93xQ6UMRhZk8zKVSpNKvOGNWACu9h02VProtU9FAEfG0ZNImeU3rOdw7Wmjw3NWlV/pwT73MrPJsDne7LvWyowXbdWV54rryvv2WsmrgSP5+svffQkN7H76pdewfSEyNYmvXl5Op0Rt/PuP9JxJKs9V17jO69kFi6nvuqRfkwI9zJZeXUvL8TI2qx3SXRM42tusvyzq/YnMiHg+B479/KxUo8ZZELuONAq6v8NRPnKiGFkUJt67o0ivLBI58n0m9uD0E5peLb7te88t4j+SkboruX7lwmo9Mbl2NWrf/+D+XgQPsV/s4zEcmiepWLbV80zoHiV86APNXMHvmSEyNYj6/DMd9zJ16fyv3JAp5dpdvb/UQ9tkqfSSibAl83wYAK2Nnuyp9MFuqooGiy7dA6s0C4ePG67nuP9ClVhKs5tRYrZd8xJeUsrSLmOnURFbZrvvKcn0KSNu/8vLhKlJ+4f3Pcfm8crFWlmvlDKL9iZT6fKX3v4z3iIfAPNDaQ/j+mZxcdanlxZVzfkyn/lP5zLc8mI9MQusZ4uqFq5ztxUa9xOe+Apd+R31dbupcnbYmoBZaFK1nONtZqAb7Ph7/GVytED3vwdyspYbKLzoxdVcdkdRCww71glv2/rXlHcbLN7h/879qE8+rgWhmkC6S6VZDqeVbQznHWvBxnfuMOvv7r05T3+PlDEFpudWUyMP6bE1ALQQKI/s+UzuKHxC/1IOSGipz1M+zuziPXCHAGeJvFkgtaTX6dZqf5nJOv0VZSuzfZFIvyelA9BLfHycBcB22lVyeoQ7PbV/faCiFUrONtiqjbso+t2JTIj9OKim/HbpKBMt4m7P7jEQVSfhQsk691FEfdloFA4XaWZzuEFV/CGV3hma2b9jRjfm8cpGktRGzbi2t5l20s1X7QTYXaVEUZePspQMowam7QGd2mZ+v2P47f6ekfdIXjO70KKeznWUsVyWu/0Upd36Sb6/nBzSj8xPxKGW6zk0wd78HmMSec6EqeX7FumWnJNW0JAcYW1ogNSOtumoUuexFyTp56vL7qe0WRQ5raw9hf/YPyXTq94VbCvs+46vjB9L/tbaeYUz3/3KYTk0Qv9SzsTHuJff/Ph6/j7FW3TrHzxBPXyhKLdeOUf38rT18VSCVUez8JK73KQHuuA9/J9A5qPRHzF/BqQs4Rc+vENtFujUxRh1mnQB1zuxf7/6fSh+HEJsmU6HWDpkKtXbIVKhCCCFKkkAhhBDCkAQKIYQQhiRQCCGEMCSBQgghhCEJFEIIIQxJoBBCCGGoYWVlJfXq1atKH4cQQogq9R4gNymJuiA33NUOueGudsgNd0IIIUqSQCGEEMKQBAohhBCGJFAIIYQwJIFCCCGEIQkUQgghDEmgEEIIYUgChRBCCENVECjmcLfX81zLm/l8L/F5+jLzcbePEtGX8WwOn6cPm7rcPbWFhy0q59nd9Hea+5LvuAokIvjcNmwNDTQ0NOCOFFvPl17H5ksUWak2VEGgeLsS1/uwtdfiD+wlvvZuvLeWM2/NT2JvHkX5u5zD3ezBe2uZ6Cb2stnzU7vnt4rt+4y5Nwuk9K+lM1g5wP59lT647S6C22zHG4iW+N0l8Dm9m/ptVpMqCBQ2/DMLpN5M4HkLP4L4P5eJzm99ueXb4Oeb+h7vPNB6hvDSAqk3DxhrBZjk4RTAbvYfP4Dr/gPilw5s+Og2e34qf363h8h3V4ge//1b+Y2I9TCz32XFFY4TH7MWXSvhc+KNgmtsjOJr1Y6KBoqIR9+szk3NzOHe0UKD564u/dKHe+plZpVnc7jb+7Ka5rbryvLEdeV9+y1l1cCR/P1k77+FhvY+fFPr2D+QmBrF1q4vR6vxl/p8xvtPJJSmquvcZ3Ttg8TU99xTL8iBH+eA9/H4JvB3vr+hc1/y/EyNqsd0l0TONrbrL8s6v2KLPLvLt7fAddhW6SMRmPD45/B3mYqvkvDh9EbBFcZ/+N0d2dtUBS2KEm5d0aVflgkc+V69EL/E5/YQmF8uvu16zS/jPZK50BvvX7lwmo9Mbl2NWrf/+D+XgQPsV/s4zEcm320ztnNQaanMX8HsmSMxNYr5/DIc9zF3amPBSWxM4q/TRFvPcLaz0kciyhG57CWKi7C/q9KHsmUqGii6fEr+NXzceD3X/Qe61EuC1Zwaq/WSj/iSUpZ2ETOdmsgq23Vfy/dmUkDa/pWXD1eR8gvvf47L55WLubJcK2cQ7c+j1Ocrvf9lvEc8BOaB1h7C989sWTO2nPNjOvWfyme+5cF8ZBJazxD32creXmwF5e/Mde4zDOqwolpE3NgD4Ar7qZ8wUQstitYznC2YXnkfj/8MrlaInvdgbtZSQ+UXnZi6q45IaqFhh3pBLnv/2vIO4+Ub3L/5X7V+BzUQzQzSRfIdd44p51gLTnKxevcS1/9CQFoTNSPyMABAwK6MdmowKx3aUa+ZhgY3xQZIVbvqDxRG9n2mdhQ/IH6pByU1NFrel/HsLs4jVwhwhvibBVJLWo1+neanuZzTb1GWEvs3mdRLcjoQvcT3x0lgvblqdXhue5nnJctLfO4rRFsPYIXyz63YIkprwtrzbxKgRUVVMFConcXpDtFlvM3r6QzNbN+woxvzeeUiSmsjZt1aWs28aGfr/BXMO1poaC7SoijKxtlLB1CCU3eBzuwyP1+x/Xf+Tkn7aMt3dKdHQSm1y0z55vPLWZ9R69AHtUY6D8xP8u31/IBmdH4iHmWfrnMTzN3vASax6zq3yzq/YuOm/hcBevhK+oSqSAS3em+E2au077XWg82XoMufIpXSveLKqCfrWJxUqnbTUbXdoshhbe0h7M9Oj5hO/b5wS2HfZ3x1PDOs1Np6hrHj6xtmajo1QfxSz8b6DUru/308fh9jrbp1jp8hPrO+9E/687cWvuAUOz+J631KgDvuw98JdA4q/RHzV3DqAk7R8ys2aQ73kUmsl35XsxcXUT8aVlZWUr/e/T+VPg4hNk2mQq0dMhVq7ZCpUIUQQpQkgUIIIYQhCRRCCCEMSaAQQghhSAKFEEIIQxIohBBCGJJAIYQQwlDDyspK6tWrV5U+DiGEEFXqPUBuUhJ1QW64qx1yw13tkBvuhBBClCSBQgghhCEJFEIIIQxJoBBCCGFIAoUQQghDEiiEEEIYkkAhhBDCkAQKIYQQhqogUMzhbq/nuZY38/le4vP0Zebjbh8loi/j2VzWcpsnez5rUWte4mvXz7uup58jvoUGz1wFjk8AkIjgc9toUOfOtrl9+b+7RAS3LbNOg63AOjWkCgLF25W43oetvQX3VKWPZL1e4mvvxntrOfPW/CT2Zu0iMoe72ZO1PHrrCub29QWLzZ6f2j2/VWZqlIYd/wE9PQUWvsTX7oH7C6TeLJB648N1y4NNN3e5eFciuM12vIFo+p1owItZHwgSPmxmO4FotGAJtagKAoUN/8wCqTcTePZtfenxfy4Tnd/6csu3wc839T3eeaD1DOGlBVJvHjDWCjDJwyml3LOXenDdf6BcPJZ8uADmk8TXsZvNnp/Kn996MIf7CITfTOAxFVr+Pp6ZBfyd2v9tfHocopP/XdO11NrUxdkxF65wnFQqRSoeVn530afq7y6Bz+klCljHwsRTKWW9OQ8Fv9oaUdFAEfHomtJ5qRm1qe25q0uv9OGe0tWins3hbtelZna0pGtZievK+/ZbyqqBI/n7yd5/Cw3tffim1rF/IDE1iq1dX04mbWD8+Yz3n0golwDXuc/o2geJqe+5p16QAz8qaQfTqUH8ne8rb+7bzf7W8s99yfMzNaoeU6aFom1ju/6yrPMrymXD/2aQrkofhiiLyePH36Ve9k1m9lt1CxM/ck+JEgQ9XTUdHPSqoEVRwq0ruvTKMoEj36sX4pf43B4C88vFt12v+WW8R3Lyw0X3r1w4zUcmt65Grdt//J/LwAH2q30c5iOTGDZktRbI8X/fmgtO5yDxSwdg/gpmzxyJqVHM55fhuI+5U+9vxR7Ehs3x8BZYe/6tbi5ENStyGW8UcH2q/O7iT5Xf6QfwY7ofw4bbV9ttv4oGii6fknMNHzdeT0mvaKmXBKs5NVbrJR/xJaUs7SJmOjWRVbYrnd/NpIC0/afzvkXKL7z/OS6fVy7m6fTPmwVSupphqc9Xev/LeI94CMwDrT2E75/BWrCkOdxHJoEewj6b8clUlXN+TKf+U/nMtzyYj0xC6xniavnlbC/eBqW/IkAPX0nArrAIbnsAcBH251TPAl5dP0aUgNeMO3+EQs2o/hZF6xnOdhb6QbyPx38GVytEz3swN2upofKLTkzdVUcktdCwQ70gl71/bXmH8fIN7t/8rwfUf6mBaGaQLpL5rYpnc7h3eAhwgLGlrU5fKOdYC06uc59JDbbCIp5uvPNv47sW65KI4G6wE8DKWNxf4LtwEY4r/RPxMeUXtLJau62K6g8URvZ9pnYUPyB+qQclNVRoaGEBz+7iPHKFAGeIa53B68jxp81Pc3lqA6NPSuzfZFIvyelA9BLfHycBcB22pcuwNXsItPYQXipWk1eH57aXeV6yvMTnvkK09QBWKP/circicb0P+60DjBX9rsU7oY1qsroIx+eyByCY9ysVK9d+zHVUq6pgoMiMC1c6RJfxNq+nM1Q/rrwb83nlIkprI2bdWlrNvGhn6/wVzDtaaGgu0qIoysbZSwdQglN3gc7sMj9fsf13/k5J+2jLd3SnR0Gd7UQNEleUFsb8JPbmTKe4vlWVuP4Xpdz5Sb4tMJzS6PwotVdwnZtg7n4PMIk9Z/htyfMrtkTieh/m80iQqLSED5tZGdVENIDd3JC+V8IdAUwevnIBAS9m9X2zNwpY6T1cu5GjtlsUOaytPYT92ekR06nfF24p7PuMr44fSP/X2nqGMd3/y2E6NUH8Uk+RfoMSSu7/fTx+H2OtunWOnyE+s770T/rztxbOaRc7P0rtFTjuU4Zldg4q/RHzV3DqAk7R8yvWQbvRroWGI5PAJPasoKv1h2mVjcKVAlEduvxxxly6q4LVxVhuy6PGNKysrKR+vft/Kn0cQmyaTIVaO2Qq1NohU6EKIYQoSQKFEEIIQxIohBBCGJJAIYQQwpAECiGEEIYkUAghhDAkgUIIIYShhpWVldSrV68qfRxCCCGq1HuA3KQk6oLccFc75Ia72iE33AkhhChJAoUQQghDEiiEEEIYkkAhhBDCkAQKIYQQhiRQCCGEMCSBQgghhCEJFEIIIQxVQaCYw91ez3Mtb+bzvcTn6ctMfdk+SuSZbll79rSYNs9c1nzWopblfL+euUofkAAggc+WmSe7oaEBmzuS+d0lfNgaspen1/PV7q+zCgLF25W43oetvRbnFn6Jr70b763lzFvzk9ibR4kU2SJ6y4N5nReUzZ6f2j2/1Uz57u/1PCD1ZoHUmweM/d2DTTdXuage0YAds7vYr7I+VEGgsOGfWSD1ZgLPvq0vPf7PZaLzW19u+Tb4+aa+xzsPtJ4hvKReLFoBJnk4BfA+npkF9UKyQOp+D1aAv79YV6tis+en8ue3Dj37b+7N9/DVqffVN97Hc66H6Pnvi1YSxLtiwjOXIpVSX2GX8rtbWVV+dyYPcynd8lScMSuAld7Dpkoe+KZUNFBEPPrUSW5qZg73jhYaPHd16Zc+3FO6WtWzOdztfdnpF7XWlbiuvG+/pawaOJK/n+z9t9DQ3odvah37BxJTo9iyUkCZGr/x5zPefyKhXO5d5z6jax8kpr7nnnpBDvyY32pIAFGAX++mnD/HkudnalQ9prvpwKNtY7v+sqzzKzboWVL5LvX2NWIlwaqc26qS/t190FT4dxe5jDcKuL7CU7txohpaFCXcuqJLvywTOKLVql7ic3sIzC8X33a95pfxHslJ7RTdv3LhNB+Z3LoatW7/8X8uAwfYr/ZxmI9M5l88dHls85FJaD1D3GfbmmPpHCR+6QDMX8HsmSMxNYr5/DIc9zGXrumKt6Lz33ExybfpVNNLfO4rBb5/URmZfgqzPQDWMeL+rsLrfRsArIydLbS8dlQ0UHT5lLRJ+Ljxeq77D3Spl/xalfWSj/iSUpZ2ETOdmsgq23VfS9NkUkDa/pWXD1eR8gvvf47L55WLubJcK2cQ7U+i1Ocrvf9lvEc8BOaB1h7C988ozdxi5q/gLLOPopzzYzr1n8pnvuXJC0TlbC82yoZ/6Qyc71Zbaf8B50p896Jyol6chfoo6qQ1AbXQomg9w9nOQjXY9/H4z+Bqheh5D+ZmLTVUftGJqbvqiKQWGnaoF+Sy968t7zBevsH9m//1gPovNRDNDNJFbkpC10+x5MMFRG/9ZQtTP8o51i5QrnOflZXWEltg32fMvdEFX5JEMdEkQbgK6Pop4mHldxf4ltxBTdvlUeQAACAASURBVJGH9dGagFoIFEb2faZ2FD8gfqkHJTVUfFRQlmd3cR65QoAzxLULbesGjmF+mstTGxiNUmL/JpN6SU4Hopf4/jgJgOtwgfTSvt3sL3j86vDc9jLPSxY15dF6ACuUf27Flov8OAnH/53av+TUGZOZ/YWaegkfStaplxruw06rYKBQO4vTHaLLeJvX0xma2b5hRzfm88pFlNZGzLq1tJp50c7W+SuYd7TQ0FykRVGUjbOXDqAEp+4Cndllfr5i++/8nZL20Zbv6E6Pgjrbmfv59cs7OKyrdSau/0Upd16f8y7v/EQ8SpmucxPM3e8BJrHrOrfLOr9i0yKeFuy3eghvVf+T2IQI7qz7I8xKeiknIEQue1GyTp66aIXXdosih7W1h7A/Oz1iOvX7wi2FfZ/x1fED6f9aW88wpvt/OUynJohf6tlY7rjk/t/H4/cx1qpb5/gZ4jPF0j8HsB735S1Pf/5W/XDLAstzJK73KQHuuA9/J9A5qPRHzF/BqQs4Rc+v2BT9iDg7vqy+L1FNrFhdYeJzuoCQbk2MUQdZJ0CdM/vXu/+n0schxKbJVKi1Q6ZCrR0yFaoQQoiSJFAIIYQwJIFCCCGEIQkUQgghDEmgEEIIYUgChRBCCEMSKIQQQhhqWFlZSb169arSxyGEEKJKvQfITUqiLsgNd7VDbrirHXLDnRBCiJIkUAghhDAkgUIIIYQhCRRCCCEMSaAQQghhSAKFEEIIQxIohBBCGJJAIYQQwlAVBIo53O31PNfyZj7fS3yevsy82O2jRAqV8ewuNnUdW4F5sUUtyJkD3TOXtTRxXfd3IN/1u5HwYVPnxrb5MjPFR9z6ObPVlzui3xCf25ZZZnMTSeiW2bK3tbkjWfPQV6MqCBRvV+J6H7b2FtxTlT6S9XqJr70b763lzFvzk9ibR4nkrue+QnSDe9ns+and81tNXuJr98D9BVJvFki98eG65ckPBMd96nLlNVdgDnSxVRL4nN4N/K4S+GxmvAHdltEAdrM753erX2zH7C62tDpUQaCw4Z9ZIPVmAs++rS89/s9lovNbX275Nvj5pr7HOw+0niG8tEDqzQPGWgEmeai7KCeu/wfeeXBdOoN1A0e32fNT+fNbD97HM7OAv1P7v41Pj0N08r+rvqZZrxI+J94ouMbGivyuXIRTKVLay9+lvB25jDcKWMcIx1OkUnHGrAABHkYATHjmdNuFXUr5K6tV/V1XNFBEPPqmdG5qRm2Ke+7q0i99uKd0taxnc7jb+wo2x7Wmuv2WsmrgSP5+svffQkN7H76pdewfSEyNYmvXl5Op8Rt/PuP9JxLKn43r3Gd07YPE1PfcUy/IgR/VtMSzuzjPL8NxH/5P1nfuS56fqVH1mO6m/4C1bWzXX5Z1foWoSQkfTm8UXGH8h9e56eoKAK6vPHSZIBG5zD21cRF4mN9qSIDSavmgCdOmDvrtqoIWRQm3rujSL8sEjnyvXohf4nN7CMwvF992veaX8R7JSe0U3b9y4TQfmdy6GrVu//F/LgMH2K/2cZiPTOY1gyPfXSFKD2GfbYsOQKdzkPilAzB/BbNnjsTUKGY1KEnK422b4+EtsPb8W/bF45ZHV6m4W9U10FoWuewliouw1kooKIBd62Ow+dJ9EPGnUcDKfiK4bQ2Y7YEC6atMP4XZHgDrGHHDfVVeRQNFl0/JtYaPG6/nuv9Al3pJsJpTY7Ve8hFfys7bmk5NZJXtSud/Mykgbf/pvHCR8gvvf47L55WLubJcK2cQ7Ssv9flK738Z7xEPgXmgtYfwfV16aWoU+y1w3c/sbz3KOT+mU/+pfOZbHsxHJqH1DHE1KJWzvdgIpb8iQA9f6QKydr7TfyvzVzBLsNh6ETf2ALjC/rJ/V9GoF7vTp/suonjtdgJRwOoiHC6WvtJW9+KUPopNaj3D2c5CNdj38fjP4GqF6HkP5mYtNVR+0Ympu+qIpBYadqgX5LL3ry3vMF6+wf2b//WA+i81EM0M0kUyXTuJ/DgJ6FI+zUqHdvR8d1b6a3OUc6z9kbvOfVbVzeN6EPF0450/wNiSUQXAhv9+D8wnib/DY9sOIg8DAATs6qgks9KhHfWaaWhQOqS7/Lo+hngYlxWI3uPHBJj3a78WK65wnNScny6e5rQqdP0U8TAuIBr4Fl8VR/3qDxRG9n2mdhQ/IH6pByU1VOZF8tldnEeuEOAM8TcLpJa0Gv06zU9zeWoDwxRL7N9kUi/J6UD0Et8fleDgOryeVJM6PLd9I8FDHVHVegArlH9uxYYkrvdhv3WAsaXSrTKtD0tUAaWTgSYTmJo+UN6z9nK2ywQk8H2rBB/XpwVCv8nM/o2MQnnHKhgoMuPGlQ7RZbzN6+kM1Y8778Z8XrmI0tqIWbeWVjMv2tk6fwXzjhYamou0KIqycfbSAZTg1F2gM7vMz1ds/52/U9I+2vId3elRUGc7c9NWC6SWlJq/9dKDrPRX4vpflHLnJ/m2wLh7o/Oj1G7BdW6Cufs9wCT2nHRHyfMrypK43of5PGUFCW0Qg/XS7zaUdhTFZbUWUilScSVtZB2Lk0r56cq9D8JsJwDg+lT5LrrOKqOcol7MDQ00NJjTo6DOdgFEcGfdg6Et7+VwFTfXa7tFkcPa2kPYn50eMZ36feGWwr7P+Or4gfR/ra1nGNP9vxymUxPEL/VsaFhq6f2/j8fvY6xVt87xM8Rn1pf+SX/+1uycd97yHErtFmVEVSfQOaj0R8xfwakLOEXPr1gHrb9Lq0xkXloqNWuEXPMVPrgv91FUBauaYkp3RpvwBMOMWTNXBatrjPicp8jv1orVFTZYXh0aVlZWUr/e/T+VPg4hNk2mQq0dMhVq7ZCpUIUQQpQkgUIIIYQhCRRCCCEMSaAQQghhSAKFEEIIQxIohBBCGJJAIYQQwlDDyspK6tWrV5U+DiGEEFXqPYB9/98vK30cQmzas//9f+RvuUY8+9//R264qxFyw50QQoiSJFAIIYQwJIFCCCGEIQkUQgghDEmgEEIIYUgChRBCCEMSKIQQQhiSQCGEEMKQBAqdxwNN7N6Z+/qax1u1g+QsEwMOutWyL0xvVcGifjxnorOJ3TsdTCSLLdvCv0lRvoQPmzrXtc2nmzk+EcGtm0fb5vZlzSufWceWmSvbVmCdKiaB4p2Z5cKH/QzfXmJxE6WsjTvo7tx4kNns9uLtWhs/xzDNHMxdMP01u3eeg25HJQ5LkMDn9BLNez+C22wnoFsQDXgxuyO6TX3YzHYC0fyta4UEijzNDP+0yovX2usbPtqScvdgPtbM0XvTzI42b7iU5OoSi7GNH8Vmtxdv0yz+QRj2f86vct6/0AvB1yH6TBU6tG0u4XPijYJrbAxr1vvfEgCsrjDxVIpUKsyYFQh8i9LoyAQY65i2TorUnIda+irrKFDMcmFnE7sHgkwMONS0kYML088p2pxPBpU00MBsWXvIS011OpjIqZmvTX9Nd2eh1NUe+q6FuNixZ0Ofbm1c+UzO28r/7/Q2pT/jRBK1xtnE7s4gaznbdI8/L729qLjHA/3cOfY5fY25S9q4uGUVFrFuCR9ObxRcYfyHi6yzH/XC30XTB1YgytM4kPiRe0qUIOjpqqngoFdHgUJ1e4Th20vqf5a403uOieQe+s46gCV+ePQ8veraozCLwFF7m66AJYY/1AeDzIU3T2yJ4d5Mvnht3EFbb6gyNfaOb5SWSmyEtoFZ1qa/pm1wCY7d5MHJjQUn8Q4lg3x320HwWlvpdcU7FbnsJYqLsL8rb5npcC9WIOq1p/sf7Po8VPypkq76AH50a30UNty+WuqhqMdAQTPD96Z58XqV4DFIB4eOfoYtsPjgiXrhf87fHiyBZQh3R3klf3RNn5K6yVELwCrJJChpgyVASS9tdepq78mQ7jPB0Xta+aF0DXTvyT8ybAFu99PWGwLLELPqhaec7UWlPGfCPQKj/dJqqDYRN/YAuMJ+8sMEYPIQDLvS6Sira4wxV4H1Al686QASJeA1o+/GqHb1Fygsdj5W0zsf2fUdf3v4uLsZYmH+lgSmbzIcg6NnnezNKiCnj2Iqs3xtOsiFdFqpnzuFWg4WO+4Nppc2bw99/qF0R2j+ZxNVafomwwxxTVp+VSfyMABAwK6OVjIr/Q1Rr5mGBjcRwNTlZ07te5jzH4YVACv7zfqSXITjyjrxMSWsrKzWTqui/gJF2nMmLocA+JVJ+QHuPfk5R1nih0ezPA6HAAedZbYmSAYZ6B3hDkPMvl7lxU9aiyJHLIx/+nmBBeWaVYJR50aGQCo100WLMmrmTq8Mo6wFj8MhJWW4U1cJ0VKgRqlPUWUSRNROb6y9HDYB5v1Ka8O1H3OtdlBQj4Ei/YPrYDgG2cGgjc5jsDjYj/M2HNxIU18r/8PcFkUb7tFmlH6RjgKd2Wpn+84mpe+ATIdy97iu32T8v5RyYyG+G88POI1NzVnb6jujHw90qK2kEA/uOYAQzpwLjdH2ojKyU5pqWlNr2U5Jq7CSuvzqKCXtFVdGPVnH4qRSfrqI4NbujWgwY1eiBGNBdVSTycNXLiDgxayuZ1bX6T1cO5Gj/gKFzkHLEMGfsvsIPvpSS804+HI9Tf1GJ18eywxrPWgZYvhY9jDXvSdDzI468sfAr8Pek58rLRVL4eNLL8+xNu5QRjQdu8nFDqDjG6U/IjbCgC7gFNteVDNt1F4Tu3tDQAinBPmqZLW6CMfn8OhiQJc/zphLN6jW6mIsZ51q17CyspLa8ct/qfRxbIFZLuzs545liFmDWtjauIO2wSUOjk7LaKA6I1Oh1g6ZCrV2PHnyRJkzezt4PJC5h2DdrQkhhNjG6jr1VJDFkZeOEkIIUVwdtSjauPh6lYtFln50bZUX197pAQkhRF3Yfi0KIYQQ6yKBQgghhCEJFEIIIQxJoBBCCGGoYWVlJfXq1atKH4cQQogq9R4gNymJuiA33NUOueGudjx58kRST0IIIYxJoBBCCGFIAoUQQghDEiiEEEIYkkAhhBDCkAQKIYQQhiRQCCGEMCSBQgghhCEJFDqPB5p0c13nznm9BZKzTAw40mV3D2TPZy1EZtrTQtOcasu28G9SlC/hw6bOe23zJfLey32l1wFIRHDbbJnlNh+JwnupShIo3plZLnzYz/DtpfQ7i7dHaOtcX7BYG3fQ3dnEhemNHcVmtxdv19r4OYZpzp93ffprdu88B92OShyWIIHP6SW6oU192Mx2AtENbV0VJFDkaWb4p1VevNZeWzUbXhvuUQdH700r5f50k6MAsQR5FUcDydUlFmMbP4rNbi/epln8gzDs/5xf5bx/oReCr0P0mSp0aNtcwufEGwXX2BhW/QKTh7lUilT6FWfMCmCl97AJfYCxjoWJa+vNeailr7KOAsUsF3Y2sXsgqEvvOLgw/ZyizflkkO6dTewemC1rD3mpqU4HEzk187Xpr+nuLJy62nvyGy52qHN1N+7BbCn/062NK59Jm/f7Tm9T+jNOJFFrnE3s1rVQtG26x5+X3l5U3OOBfu4c+5y+xtwlbVzcsgqLWLeED6c3Cq4w/sMl1o1cxhsFXF/hMQGJH7mnRAmCnq6aCg56dRQoVLdHdOmdJe70nmMiuYe+sw5giR8ePU+vuvYozCJw1N6mK2CJ4Q/1wcAgNRRbYrg3EwjWxh209YbKq7FP32Q4Bhzr2JoLQMc3zI42Q2yEtoFZ1qa/pm1wCY7d5MHJPVuxB/E2JYN8d9tB8Fpb6XXFOxW57CWKi7C/q8SaCXzfBgArY2fVdeNPlXTVB/CjW+ujsOH21VIPRT0GCpoZVtM7wWOQDg4d/QxbYPHBE/XC/5y/PVgCyxDujvJK/uiaPiV1k6MWgFWSSVDSBktAcya9VDR1NcuF3hBQ/oVh78mQ7jPB0Xta+aF0DXTvyT8ybAFu99PWGwLLELNq+eVsLyrlORPuERjtl1ZDtYm4sQfAFfZTKkzktSb0Al68Aa2PIkrAa8Yd2fKjfWvqL1BY7Hyspnc+sus7/vbwcXczxML8LUm6Rn/0rJO9WQXk9FFMZZavTQe5kE4r9XOnUMvBYsfdYVCDT85yYWc/d2hm+KetTifsoc8/lO4Izf9soipN32SYIa5Jy6/qRB4GAAjY1dFKZqW/Ieo109DgJpK3rq41kcVFOK70T8SVTgxWVmunVVF/gSLtOROXQwD8yqT8APee/JyjLPHDo1keh5UafWeZrQmSQQZ6R7jDELNaZ3ShPoZYGP/08wILlDK6P+znjsVB8KdiNflZJRh1bmQIpFIzXbQoo2bu9MowylrwOBxSUoY7dZUQLQW6zlFxokISPpSsUy+H9a0J836l89u1H3OtdlBQj4Ei/YPrUPoAsoJBG53HYHGwH+dtOLiRpr5W/oe5LYo23KPNKP0iHfmd2ckg3R+OsAgQC+HU9YPoh6qujf+XUm4sxHfj+QGnsakZKNwZ/XigQ20lhXhwzwGEcOZcaIy2F5WRndJU05pay3ZKWoWV1OXXj2hKkYoro56sY3FSqUw6SunHANdXOaOZTB6+cgEBL2b1HgqzN0pmVFRtqL9AoXPQMkQwJ73z0ZdaasbBl+tp6jc6+fJYc1bZw7r/g9IPMDvqyB8Dvw57T36utFQshY8vvTzH2rhDGdF07CYXO4COb5T+iNgIA7qAU2x7Uc20UXtN7O4NASGcEuSrR7o1MUahrFOXP86YSzeo1upiLD6X349RxRpWVlZSO375L5U+ji2g5v4tQ8wa1MLWxh20DS5xcHRaRgPVGZkKtXbIVKi148mTJ8qc2dvB44HMPQTrbk0IIcQ2Vtepp4Isjrx0lBBCiOLqqEXRxsXXq1wssvSja6u8uPZOD0gIIerC9mtRCCGEWBcJFEIIIQxJoBBCCGFIAoUQQghDDSsrK6lXr15V+jiEEEJUqfcAuUlJ1AW54a52yA13tePJkyeSehJCCGFMAoUQQghDEiiEEEIYkkAhhBDCkAQKIYQQhiRQCCGEMCSBQgghhCEJFEIIIQxJoNBMf61MNZmeYzoz/aR+Tuv1eDyQM11lcpaJAQfdBebKFtvdLBd2NunmWi80zan2N6nOwy7ejUQEn9uGTZ3z2h0ptp4vvY7Nl8h7L/eVXqcGSKDIFQvztyTAc+Ix5a1/JJ4bbVGmWS582M/w7SUWN1HK2riD7s6NB5nNbi/ehudMdPbzj9FpXrxe5cXrVWZHYditVVpQKzLnoNtRyQPdhiK4zXa8gShRw/US+JzeEuvULgkUWZo5aFkingCmp7ljaebglpW9B/OxZo7em2Z2tHnDpSRXl1iMbfwoNru9eBuUSsmvTJnpefeamiCWQGlUzHKhF4KvQ/SZKnWM25WZ/S4rrnCc+Ji16FoJnxNvFFxjY2StZfIwl0qRSr/iKMVY6T1cO19mHQUKtek+EGRiwJFuvl+Yfk6myZ7TnE8GlTTQwCxriVWgid92N3MnPMvjcIiD3Z/zW4t+H891ZTexu/NrHmeVN5u1PDNHN8Ae+q6FuNixsbm618YdWWXe6c1JUeSlzjLbdI8/L729qKA23KPN3OnVvotZLvSGODjar07Z28bF1zJ9b2WY8Pjn8HcZXNQTPpzeKLjC+A+XKC5yGW8UcH2Fp3biRD0FCtXtEYZvL6n/WeJO7zkmknvoO+sAlvjhUSaNtPYozCJw1N6Wfq/R1AR/n2bq78389pByUV9cVbZ5PNChKxuIhXB+qOWLM6mliuj4RmmpxEZoG5hlbfpr2gaX4NhNHpzcWHAS787ekyFe3Gti+MMmdu/sh3ur8r3ViMhlL1FchP1dJdZM4Ps2AFgZO1tq3epSf4GCZobvKbne4DFIB4eOfoYtsPjgSbqz+m8PlsAyhLtD3dRiorGjg6OxEHew83GjrthkkO9uA5YhZl+v8uL1tFp+iKlplFQV+uXa/rfG3pOhrDKP3ltV89kh+hq1df7IsAW43U9bb0g5lmttZW8vKmdt3MHu3lWGf1rlxT0Hd3qVlqCochE39gC4wn5KXvprtDUB9RgoLHY+VtM7H9n1HX97+Li7OdNZPX2T4RgcPetkL0ruXlvPbAF+3chefbmJhNIJHRuhbWcTu3d2ZKWWlNRVprzK2EOffyjdr1LZYxHlm8U/uMTRe2rQ7viGF/ccLA6ek7RglYs8DAAQsKujmcxKh3bUa6ahwU0kb93aa01APQaKtOdMXA4BmU7CvSc/5yhL/PBI6YMAB50dudvtoW9qlRfX2rLfNpmUC7CuxaC9LurK+Ed4VvmH1gJZt1kudKr9H+ve9jkT7hEW1U74O70yjLImJJP8g2bM+lqm9vcm6kPCh5J16qWG+rDT6i9Q6Gr8wzHIDgZtdB6DxcF+nLfRdRaW8Pcka42/UTq20+VrL+VivPeQnYPA4u1+5f0PR3KGwWbGybcNKq0XrUNZn2JYG/8v7sSAWIjvCqQeGpuas7bVd0Y/HuhQW0khHtxzACGcus7tUtuLCmls5FcsMfzdbPqtx9+NsEgTjZIWrLAIbvW+B7NXGfyqtR5svgRdfv2IphSpuDLqyToWJ5XKpKOUfgxwfeWhBuNEHQYKnYOWIYI/ZY8W+ehLLTXj4MuSnYV7aPx15t99U9MMHysytLXRybV7jnQt8OCxIYIbGAa79+TnHLUAlsLHl16eY23coaTCjt1UWjgd3yj9EbERBnQBp9j2opLauPj6Jke1SsbOJpy3HQTTI50yN3/u7g0BIZwS5GtHujUxRg1mnQB1zuwdv/yXSh/HFpjlws5+7liGmJ0qnptfG3fQNrjEwdFpGVVSZ2Qq1NohU6HWjidPnihzZm8Hjwf09zWU05oQQggBdZ56KsjiyEtHCSGEKK6OWhRtXHy9ysUiSz+6tsqLa+/0gIQQoi5svxaFEEKIdZFAIYQQwpAECiGEEIYkUAghhDDUsLKyknr16lWlj0MIIUSVeg+Qm5REXZAb7mqH3HBXO548eSKpJyGEEMYkUAghhDAkgUIIIYQhCRRCCCEMSaAQQghhSAKFEEIIQxIohBBCGJJAIYQQwpAECs3018pUk+k5pjPTT16Y3liRjwdypqtMzjIx4EhPd9k9kD2ftdjOMnOqF5/LXPubVOZpF29JIoLPbcOmzpXtjqxzeXo9X3odmy+Rt32DtsztI1GkiGohgSJXLMzfkgDPiceUt/6ReG60RZlmufBhP8O3l9LvLN4eoa1zfcFibdxBd+fGg9dmtxdvw3MmOvv5x+g0L16v8uL1KrOjMOzW/W1Mf83uneeg21HJA90GIrjNdryBKNENLdck8Dm9BdbJbK+JBryYbdUdLCRQZGnmoGWJeAKYnuaOpZmDW1Z2G+5RB0fvqReDn25yFCCWIK/iaCC5usRibONHsdntxdugVEp+ZcpMz7vX1KT725jlQi8EX4foM1XqGLcLM/tdVlzhOPEx6waWKxI+J94ouMbGyF6ri7NjLlzhOKlUilQ8jAsg+pT4ln6OrVVHgUJtug8EdekdBxemn5Npsuc055NBunc2sXtglrXEKtDEb7ubuROe5XE4xMHuz/mtRb+P51mpo92dX/M4q7zs1FJmjm7F3pPfcLFDvRg07sFsoWxr446sMu/05qQo8lJnmW26x5+X3l5UUBvu0Wbu9GrfxSwXekMcHO1Xp+xt4+Jrmb733TDh8c/h7yoWkUstBxI+nN4ouML4DxcowePPbG8ys794vKkadRQoVLdHdOmdJe70nmMiuYe+sw5giR8eZdJIa4/CLAJH7W3p9xpNTfD3aab+3sxvDykX9cVVZZvHAx1ZqSNiIZwfavni/NSSoembDMeAYx1bcwHo+IbZ0WaIjdA2MMva9Ne0DS7BsZs8OLmn9PaiovaeDPHiXhPDHzaxe2c/3FuV761GRS57ieIi7O8qZ2W8UcD1KWWsXTH1FyhoZlhN7wSPQTo4dPQzbIHFB0/SndV/e7AEliHcHeqmFhONHR0cjYW4g52PG3XFJoN8dxuwDDH7epUXr6fV8kNMTaOkqtAv1/ZfiFJjBAfBa23FVsqy92Qoq8yj91bVfHaIvkZtnT8ybAFu99PWG1KORS2/nO1F5ayNO9jdu8rwT6u8uOfgTq/SEhQ1JuLGHgBX2F/GhT+C2x6AcoNKBdVfoLDY+VhN73xk13f87eHj7uZMZ7Vaoz961slelNy9tp7ZAvy6kb36chMJFkGpse9sYvfOjqzUkpK6ypRXVHKWCzv7uUMzwz9tdTphD33+oXS/SsljEVViFv/gEkfvqUG74xte3HOwOHhO0oI1JvIwAEDAroxoajArHdpRr5mGBjfpAVKJCO4GOwGsjMXLCSqVVX+BIu05E5dDQKaTcO/JzznKEj88UvogwEFnR+52e+ibWuVFbk3fZFIuwLoWg/a6qCvjH+FZ5R9aC0QvGaT7w37uWBwEfypWk5/lQqfa/7GRz+weYVHthL/TK8Moa0IyyT9oxqxPe2t/b6L+JHzYzHYCVhfh+ByeGhigUH+BQlfjH45BdjBoo/MYLA7247yNrrOwhL8nWWv8jdKxnS5feykX472H7BwEFm/3K+9/OKK0QDTJIN3ae7EQzg8zZeiHqq6N/xd3Yso63xVIPTQ2NQOFO6MfD3SoraQQD+45gBDOnOG3RtuLCmls5FcsMfzdbPqtx9+NsEgTjZIWfMciuNX7G8xeZQir1jpQ7oUwXt7lTymjmbRXXBn1ZB2Lk0r56Ur4sKmtDKIB7OaG9P0URe/HqAL1Fyh0DlqGCOakdz76UkvNOPiyZGfhHhp/nfl339Q0w8eaC6/a6OTaPUe6Fnjw2BDB0SLrGth78nOOWgBL4eNLL8+xNu5QUmHHbiotnI5vlP6I2AgDuoBTbHtRSW1cfH2To1olY2cTztsOgumRTpmbP3f3hoAQTgny4h1qWFlZSe345b9U+ji2gJr7twwxO1U8N7827qBtcImDo9MyqqTOyFSotUOmQq0dT548UebM3g4eD+jvw0eIxQAABndJREFUayinNSGEEALqPPVUkMWRl44SQghRXB21KNq4+HqVi0WWfnRtlRfX3ukBCSFEXdh+LQohhBDrIoFCCCGEIQkUQgghDEmgEEIIYahhZWUl9erVq0ofhxBCiCr1HiA3KYm6IDfc1Q654a52PHnyRFJPQgghjEmgEEIIYUgChRBCCEMSKIQQQhiSQCGEEMKQBAohhBCGJFAIIYQwJIFCCCGEIQkUqrVxh24ebGWaye6B2az5phWzXOgsMQ3ldJDuTl1ZA+pcyMlZJgYcdBeYK1tsR9oUp8q868WXK6/uvDnUS20vNi3hw9aQmdda/1Lm0AYSEdw23ftuH4msMiK4bbbMtjY3vkShnVUvCRRFLbF4u5+2zmCBYGEgGaS7d4TFWO6CWS582M/w7SUWN3FUa+MOujs3HmQ2u73YItNfs3vnOeh2FFlhlgs7O/ihe5oXr1d58Xo1e+rektuLdyOC22wnEM28Ew14Mbsj6v8S+Jx2AtGsFfCa3USoHRIochwcVX+YP93kKEBsBH/WRbWNi1OrvHgdoq+xQAGJBIvAwWM30z/wF9fagD2YjzVz9N40s6PNGz6+5OpSgSD07rYXW2GWC70QfB2iz1R4jccD/dw5drPIvO6ltxdbxORhLpUilX7FGbMCWOk9bCLh+5YAYHWFiadSpFJhZXngW6XVkPiRe1HANaYuTxEfswIrrNZQq6KOAsUsF3Y2sXsgyMSAI50+ujD9nEwTPSddlAwqaSAtNaTX2IZbvaD/I6E0+R8PZKem9GWlU1e9IQAWb/fnrLeHvmshLnZsbK5urXxt3u87vTnHMf218n9dC0jbpnv8eentxTvUxsXXRtPxPif5dzhqb9vg9uKtiVzGGwVcX+HRB+n9oPy3i6YPrECUp3HA1MQHAIGn/JhIQCLCZW8UrL0crqEgX0eBQnV7hOHbS+p/lrjTe46J5B76zjqAJX54lMnzrj0Ks0jxH+ReUxMAi6u5ueEq1PGN0lKJjdA2MMva9Ne0DS5B0VqpqF7PiceaMRNM92dJQK8GCXzfBgArY2e7ADAd7sUKRL32dB+EXZ+Hogt/fAyXNYDXbKbBbCeAi3DQQw3FiToMFDQzfE9JHwWPQTo4dPQzbIHFB0/UGvdz/vZgCSxDuDvKK/mja6u6crPtPRlS0kz3lJxxOoVVLEW1Tlr52r6P3lvNK3/vyT8ybAFu99PWGwLLELPX2sreXlSJZJJ/sMTwZbimpi9nR2H4Q+m0rqhCrQmTh2DYhVX9r9U1xpgrZ7v4U1aigNWqrhfg28u11ENRj4HCYudjNb3zkV3f0beHj7ubIRbmb0lg+ibDMTh61sneIkWtJVYBONhUKzXyPfT5hzio/s/os4kq1tjIr2hm2J/5/vae/JyjhJiSQQgVE3mY3ZrQmLr86X6MOf9hWAGwst+MMmrKHiBqHSM+N8ec2scR1fowakT9BYq050xcVvoLfmVSLvTKj22JHx7N8jgcAhx0FmlNrE0HGRhcApr57aF3GSjU4bedG6k9PmfCPcKipZmDwJ1eqYHWriXieReSZsy1lK+oJwkfStbJqG8hQcTnVFod2nrxp0QBPmhSU02m7D6MGlF/gSI2QtvOJnbv7GA4BtnBoI3OY7A42I/zNhwc7c/rEFwc7GD3zibaekfU0Uufq6kZtbM83SG8xPCH68kdZ7ZvG1T6ULQOZf34+LXx/+JODIiF+C5v3Dw0NjVnbavf/+OBDrWVFOLBPQcQwpkzvNdoe1EtlIEUdy5nvrvHA/3csdj5WNKEFRG57EXJOuX2LURwp++tMGNXogRjWh+Eeb+Sbgrk9mGoLY4aUX+BQuegZYjgT9mjQz76UkvNOPjSqJPXogxlfXCt2MiTt2Pvyc85agEshY8vvTzH2rhDCWDHbnKxA+j4RumPiI0woAs4xbYX75LuRrreEBDCmRO0954MEfy1Vulpwvn3IWantFRU6e3FFkq3JsbIyTrlsVpdhONzWX0Yc/ExXFb9Si7G9OvUgIaVlZXUjl/+S6WPYwvMcmFnP3cs+h9UvrVxB22DSxwcnZbRQHVGpkKtHTIVau148uSJMmf2dvB4IHMPQcnWhBBCiLS6Tj0VZHHkpaOEEEIUV0ctijYuvl7lYpGlH11b5cW1d3pAQghRF7Zfi0IIIcS6SKAQQghhSAKFEEIIQxIohBBCGGpYWVlJvXr1qtLHIYQQokr9/0Z5SIeTxRUBAAAAAElFTkSuQmCC)\n",
        "\n",
        "Link de acesso para os grafos de forma visual e testes na ferramenta Graph Online:\n",
        "* instancia00.txt - https://graphonline.ru/pt/?graph=vvOsurssVcMLdaKdZZcst\n",
        "* instancia01.txt - https://graphonline.ru/pt/?graph=REVGmSiDWzboNHUZ \n",
        "* instancia02.txt - http://graphonline.ru/pt/?graph=AJTGMrAnjRpsyZbPZZcst \n",
        "* instancia03.txt - http://graphonline.ru/pt/?graph=SSkKgEBxgvxKWVdnZZcst\n",
        "* instancia04.txt - http://graphonline.ru/pt/?graph=quWFukwxhsMKkHPwZZcst \n",
        "* pyFac1.txt - http://graphonline.ru/pt/?graph=XriPTqhtwboVmNXG\n",
        "* pyFac2.txt - http://graphonline.ru/pt/?graph=WHsiVjPArTvhoOHF \n",
        "* pyMed1.txt - http://graphonline.ru/pt/?graph=tvFwpngnwwcxVygw \n",
        "* pyMed2.txt - http://graphonline.ru/pt/?graph=LDuVhAziBpzZoFnJ\n",
        "* pyDif1.txt - http://graphonline.ru/pt/?graph=siPmFKhSlCIeqyJz\n",
        "\n",
        "Também é possível compreender o funcionamento desses algoritmos nessa ferramenta online: https://visualgo.net/en/mst?slide=1 \n",
        "\n"
      ],
      "metadata": {
        "id": "5Lvkr8dn3dt1"
      }
    },
    {
      "cell_type": "code",
      "source": [
        "☻arquivo = \"instancia01.txt\"\n",
        "\n",
        "path = \"/content/drive/MyDrive/Colab Notebooks/inst\"\n",
        "#path = \"\"\n",
        "\n",
        "# lendo arquivo da instancia em txt separado por vírgulas e armazenando \n",
        "grafo = ler_arquivo_instancia(f\"{path}/{arquivo}\")"
      ],
      "metadata": {
        "id": "w3MNnKZY3dOi"
      },
      "execution_count": 74,
      "outputs": []
    },
    {
      "cell_type": "code",
      "source": [
        "#Mostrando os dados em forma de matriz extraidos do arquivo de texto.\n",
        "print(\"Matriz de pesos:\")\n",
        "for matriz in grafo:\n",
        "  print(matriz)"
      ],
      "metadata": {
        "colab": {
          "base_uri": "https://localhost:8080/"
        },
        "id": "JIecVlbGEWBb",
        "outputId": "d1ca8426-7f7d-402f-ce28-6a98788a2f20"
      },
      "execution_count": 76,
      "outputs": [
        {
          "output_type": "stream",
          "name": "stdout",
          "text": [
            "Matriz de pesos:\n",
            "[0, 2, 0, 7, 0, 0, 2]\n",
            "[2, 0, 1, 4, 3, 0, 5]\n",
            "[0, 1, 0, 0, 4, 0, 4]\n",
            "[7, 4, 0, 0, 1, 5, 0]\n",
            "[0, 3, 4, 1, 0, 7, 0]\n",
            "[0, 0, 0, 5, 7, 0, 0]\n",
            "[2, 5, 4, 0, 0, 0, 0]\n"
          ]
        }
      ]
    },
    {
      "cell_type": "markdown",
      "source": [
        "###Extraindo informações da Matriz"
      ],
      "metadata": {
        "id": "laWkhTVJEIiz"
      }
    },
    {
      "cell_type": "code",
      "source": [
        "def mostra_dados(grafo):\n",
        "  v = len(grafo)\n",
        "  QA = 0\n",
        "  CA = [] # Conjunto de arestas e pesos\n",
        "  CV = [] # Conjunto de vértices\n",
        "  for i in range(0, v):\n",
        "    CV.append(i)\n",
        "    for j in range(i+1, v):\n",
        "      w = int(grafo[i][j])\n",
        "      if (w != 0): #Se o peso for zero não tem aresta.\n",
        "        QA+=1\n",
        "        CA.append((i,j,w))\n",
        "        print(\"Aresta:(\", i ,\"--\", j ,\") Peso:\", w)\n",
        "      #print(i, \" - \",j)\n",
        "  print(\"\\nQuantidade de Vértices:\",v)\n",
        "  print(\"Conjunto de Vértices: \", CV)\n",
        "  print(\"\\nQuantidade de arestas:\",QA)\n",
        "  print(\"Conjunto de Arestas: (u, v, w): --\",CA)  \n",
        "\n",
        "#Executando a função definida acima.\n",
        "mostra_dados(grafo)"
      ],
      "metadata": {
        "colab": {
          "base_uri": "https://localhost:8080/"
        },
        "id": "F1OL1Lfi-0pk",
        "outputId": "d668d453-abed-43bd-cd98-7ff041788271"
      },
      "execution_count": 77,
      "outputs": [
        {
          "output_type": "stream",
          "name": "stdout",
          "text": [
            "Aresta:( 0 -- 1 ) Peso: 2\n",
            "Aresta:( 0 -- 3 ) Peso: 7\n",
            "Aresta:( 0 -- 6 ) Peso: 2\n",
            "Aresta:( 1 -- 2 ) Peso: 1\n",
            "Aresta:( 1 -- 3 ) Peso: 4\n",
            "Aresta:( 1 -- 4 ) Peso: 3\n",
            "Aresta:( 1 -- 6 ) Peso: 5\n",
            "Aresta:( 2 -- 4 ) Peso: 4\n",
            "Aresta:( 2 -- 6 ) Peso: 4\n",
            "Aresta:( 3 -- 4 ) Peso: 1\n",
            "Aresta:( 3 -- 5 ) Peso: 5\n",
            "Aresta:( 4 -- 5 ) Peso: 7\n",
            "\n",
            "Quantidade de Vértices: 7\n",
            "Conjunto de Vértices:  [0, 1, 2, 3, 4, 5, 6]\n",
            "\n",
            "Quantidade de arestas: 12\n",
            "Conjunto de Arestas: (u, v, w): -- [(0, 1, 2), (0, 3, 7), (0, 6, 2), (1, 2, 1), (1, 3, 4), (1, 4, 3), (1, 6, 5), (2, 4, 4), (2, 6, 4), (3, 4, 1), (3, 5, 5), (4, 5, 7)]\n"
          ]
        }
      ]
    },
    {
      "cell_type": "markdown",
      "source": [
        "#**Algoritmo de Kruskal**\n",
        "O algoritmo de Kruskal é utilizado para encontrar a Árvore Geradora Mínima (AGM) em um grafo ponderado. Ele seleciona as arestas de menor peso, desde que não formem ciclos, para construir a AGM. Aqui está uma implementação em Python do algoritmo de Kruskal que recebe uma matriz de pesos como entrada e retorna uma lista com as arestas da AGM."
      ],
      "metadata": {
        "id": "ZjoJWISC5DVo"
      }
    },
    {
      "cell_type": "code",
      "source": [
        "# Classe UnionFind para o algoritmo de Kruskal\n",
        "class UnionFind:\n",
        "    def __init__(self, n):\n",
        "        self.parent = list(range(n))  # Lista de pais\n",
        "        self.rank = [0] * n  # Lista de classificações (ranks)\n",
        "    \n",
        "    def find(self, x):\n",
        "        if self.parent[x] != x:  # Se o pai de x não for ele mesmo\n",
        "            self.parent[x] = self.find(self.parent[x])  # Atualiza o pai de x recursivamente\n",
        "        return self.parent[x]  # Retorna o pai de x\n",
        "    \n",
        "    def union(self, x, y):\n",
        "        root_x = self.find(x)  # Encontra o pai de x\n",
        "        root_y = self.find(y)  # Encontra o pai de y\n",
        "\n",
        "        if self.rank[root_x] < self.rank[root_y]:  # Se o rank de x for menor do que o rank de y\n",
        "            self.parent[root_x] = root_y  # Define o pai de x como o pai de y\n",
        "        elif self.rank[root_x] > self.rank[root_y]:  # Se o rank de x for maior do que o rank de y\n",
        "            self.parent[root_y] = root_x  # Define o pai de y como o pai de x\n",
        "        else:  # Se os ranks de x e y forem iguais\n",
        "            self.parent[root_y] = root_x  # Define o pai de y como o pai de x\n",
        "            self.rank[root_x] += 1  # Incrementa o rank de x\n",
        "\n",
        "\n",
        "# Função Kruskal para encontrar a Árvore Geradora Mínima (AGM)\n",
        "def kruskal(weight_matrix):\n",
        "    n = len(weight_matrix)\n",
        "    edges = []  # Lista de arestas\n",
        "    total_cost = 0  # Custo total da AGM\n",
        "\n",
        "    # Constrói a lista de arestas\n",
        "    for i in range(n):\n",
        "        for j in range(i + 1, n):\n",
        "            if weight_matrix[i][j] > 0:  # Se a aresta existe (peso > 0)\n",
        "                edges.append((i, j, weight_matrix[i][j]))  # Adiciona a aresta à lista\n",
        "    \n",
        "    edges.sort(key=lambda x: x[2])  # Ordena as arestas por peso\n",
        "\n",
        "    uf = UnionFind(n)  # Cria uma instância da classe UnionFind\n",
        "    mst = []  # Lista de arestas da AGM\n",
        "\n",
        "    # Itera sobre as arestas em ordem crescente de peso\n",
        "    for edge in edges:\n",
        "        u, v, weight = edge\n",
        "        if uf.find(u) != uf.find(v):  # Verifica se a aresta forma um ciclo\n",
        "            uf.union(u, v)  # Une os conjuntos representados pelos pais de u e v\n",
        "            mst.append(edge)  # Adiciona a aresta à AGM\n",
        "            total_cost += weight  # Incrementa o custo total da AGM\n",
        "    \n",
        "    return mst, total_cost  # Retorna a lista de arestas da AGM e o custo total"
      ],
      "metadata": {
        "id": "oQetlAz46JLn"
      },
      "execution_count": 3,
      "outputs": []
    },
    {
      "cell_type": "code",
      "source": [
        "# Chamando a Função Kruskal que retornará a AGM e o Custo mínimo total\n",
        "minimum_spanning_tree, cost = kruskal(grafo)\n",
        "print(\"Árvore Geradora Mínima:\")\n",
        "for edge in minimum_spanning_tree:\n",
        "    print(edge)\n",
        "\n",
        "print(\"Custo da Árvore Geradora Mínima:\", cost)"
      ],
      "metadata": {
        "colab": {
          "base_uri": "https://localhost:8080/"
        },
        "id": "pnil7J6k63r-",
        "outputId": "1cf3940c-4bee-40c0-bc82-e2ae1ff7b9f6"
      },
      "execution_count": 64,
      "outputs": [
        {
          "output_type": "stream",
          "name": "stdout",
          "text": [
            "Árvore Geradora Mínima:\n",
            "(1, 2, 1)\n",
            "(3, 4, 1)\n",
            "(0, 1, 2)\n",
            "(0, 6, 2)\n",
            "(1, 4, 3)\n",
            "(3, 5, 5)\n",
            "Custo da Árvore Geradora Mínima: 14\n"
          ]
        }
      ]
    },
    {
      "cell_type": "markdown",
      "source": [
        "#**Algortítmo de Prim**\n",
        "O algoritmo percorre os vértices selecionando sempre o de menor custo entre os não visitados, atualizando os custos e pais dos vértices adjacentes. No final, a lista de vértices da AGM é construída a partir das informações de pais, e o custo total da AGM é calculado somando os custos dos vértices."
      ],
      "metadata": {
        "id": "VfPE5gaJ6N4X"
      }
    },
    {
      "cell_type": "code",
      "source": [
        "# Função para o algoritmo de Prim\n",
        "def prim(weight_matrix):\n",
        "    n = len(weight_matrix)\n",
        "    visited = [False] * n\n",
        "    parent = [None] * n\n",
        "    cost = [float('inf')] * n\n",
        "\n",
        "    # Define o primeiro vértice como raiz da AGM\n",
        "    parent[0] = -1\n",
        "    cost[0] = 0\n",
        "\n",
        "    for _ in range(n):\n",
        "        # Encontra o vértice com menor custo que ainda não foi visitado\n",
        "        min_cost = float('inf')\n",
        "        u = -1\n",
        "\n",
        "        for v in range(n):\n",
        "            if not visited[v] and cost[v] < min_cost:\n",
        "                min_cost = cost[v]\n",
        "                u = v\n",
        "\n",
        "        if u == -1:\n",
        "            break\n",
        "\n",
        "        visited[u] = True\n",
        "\n",
        "        # Atualiza o custo e o pai dos vértices adjacentes não visitados\n",
        "        for v in range(n):\n",
        "            if (\n",
        "                weight_matrix[u][v] > 0  # Se há uma aresta entre u e v\n",
        "                and not visited[v]  # Se v ainda não foi visitado\n",
        "                and weight_matrix[u][v] < cost[v]  # Se o custo da aresta é menor que o custo atual\n",
        "            ):\n",
        "                cost[v] = weight_matrix[u][v]\n",
        "                parent[v] = u\n",
        "\n",
        "    # Constrói a lista de vértices da AGM\n",
        "    minimum_spanning_tree = []\n",
        "    for v in range(1, n):\n",
        "        minimum_spanning_tree.append((parent[v], v, cost[v]))\n",
        "\n",
        "    return minimum_spanning_tree, sum(cost[1:])"
      ],
      "metadata": {
        "id": "NtIX9hA94F88"
      },
      "execution_count": 69,
      "outputs": []
    },
    {
      "cell_type": "code",
      "source": [
        "# Execute aqui a função prim con o grafo em forma de matriz de pesos como parâmetro de entrada.\n",
        "minimum_spanning_tree, total_cost = prim(grafo)\n",
        "\n",
        "print(\"Árvore Geradora Mínima:\")\n",
        "for edge in minimum_spanning_tree:\n",
        "    print(edge)\n",
        "\n",
        "print(\"Custo da Árvore Geradora Mínima:\", total_cost)"
      ],
      "metadata": {
        "colab": {
          "base_uri": "https://localhost:8080/"
        },
        "id": "72Y_Syzi6VU4",
        "outputId": "323374c4-6380-4ad2-84bd-dce1cfd18664"
      },
      "execution_count": 71,
      "outputs": [
        {
          "output_type": "stream",
          "name": "stdout",
          "text": [
            "Árvore Geradora Mínima:\n",
            "(0, 1, 2)\n",
            "(1, 2, 1)\n",
            "(4, 3, 1)\n",
            "(1, 4, 3)\n",
            "(3, 5, 5)\n",
            "(0, 6, 2)\n",
            "Custo da Árvore Geradora Mínima: 14\n"
          ]
        }
      ]
    },
    {
      "cell_type": "code",
      "source": [],
      "metadata": {
        "id": "1pQaeoDZ7Ttj"
      },
      "execution_count": null,
      "outputs": []
    }
  ]
}