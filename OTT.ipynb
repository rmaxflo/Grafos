{
  "nbformat": 4,
  "nbformat_minor": 0,
  "metadata": {
    "colab": {
      "provenance": [],
      "mount_file_id": "18W7WUFgLGwzCUum7TOZsnkoAjfxBfnIQ",
      "authorship_tag": "ABX9TyPvf1FkUtnvZ1zAqNd1N1en",
      "include_colab_link": true
    },
    "kernelspec": {
      "name": "python3",
      "display_name": "Python 3"
    },
    "language_info": {
      "name": "python"
    }
  },
  "cells": [
    {
      "cell_type": "markdown",
      "metadata": {
        "id": "view-in-github",
        "colab_type": "text"
      },
      "source": [
        "<a href=\"https://colab.research.google.com/github/rmaxflo/Grafos/blob/main/OTT.ipynb\" target=\"_parent\"><img src=\"https://colab.research.google.com/assets/colab-badge.svg\" alt=\"Open In Colab\"/></a>"
      ]
    },
    {
      "cell_type": "code",
      "execution_count": 14,
      "metadata": {
        "id": "leTF9LUi9HcF"
      },
      "outputs": [],
      "source": [
        "# funcao para ler os arquivos das instancias em texto\n",
        "path = \"/content/drive/MyDrive/Colab Notebooks/inst/\"\n",
        "arquivo = \"instancia01.txt\"\n",
        "\n",
        "def ler_arquivo_instancia(arquivo):\n",
        "    matriz = []\n",
        "    with open(arquivo, \"r\") as arquivo:\n",
        "        for linha in arquivo:\n",
        "            linha = linha.rstrip(\", \\n\")\n",
        "            linha = linha.split(\", \")\n",
        "            i = 0\n",
        "            for elemento in linha:\n",
        "                linha[i] = int(elemento)\n",
        "                i+=1\n",
        "            matriz.append(linha)\n",
        "    return matriz"
      ]
    },
    {
      "cell_type": "code",
      "source": [
        "grafo = ler_arquivo_instancia(path + arquivo)"
      ],
      "metadata": {
        "id": "LZPok_13AY5z"
      },
      "execution_count": 17,
      "outputs": []
    },
    {
      "cell_type": "code",
      "source": [
        "# OTT\n",
        "import random\n",
        "from operator import itemgetter # Lib. usada para ordenar vetores...\n",
        "\n",
        "infinito = 99999\n",
        "display = True\n",
        "\n",
        "D = 0\n",
        "Dmax = 3\n",
        "\n",
        "V = []\n",
        "for v in range(len(grafo)):\n",
        "    V.append(v)\n",
        "\n",
        "i = random.choice(V)\n",
        "\n",
        "Tv = []\n",
        "Q = V.copy()\n",
        "Q.remove(i)\n",
        "Tv.append(i)\n",
        "Ta = []\n",
        "CTotal = 0\n",
        "\n",
        "while len(Q) > 0:\n",
        "    if display: print(\"\\nVisitados: Tv:\", Tv,\"   A visitar Q:\", Q)\n",
        "    AVMP = []\n",
        "    Cmin = infinito\n",
        "    for j in Q:\n",
        "        for i in Tv:\n",
        "            Cij = grafo[i][j]\n",
        "            if Cij > 0 and i not in Q:\n",
        "                # if display: print(f\"({i}--{j}): {Cij}\")\n",
        "                AVMP.append([i, j, Cij])\n",
        "            v = j\n",
        "    AVMP = sorted(AVMP, key=itemgetter(2))\n",
        "    if display: print(AVMP)\n",
        "\n",
        "    encontrou = False\n",
        "    while len(AVMP) > 0:\n",
        "        A_temp = AVMP.pop(0)\n",
        "        Ta.append(A_temp)\n",
        "        if display: print(\"Ta:\", Ta)\n",
        "\n",
        "        CD, D = calcular_diametro(Ta)\n",
        "\n",
        "\n",
        "        if D <= Dmax:\n",
        "            u = A_temp[0]\n",
        "            v = A_temp[1]\n",
        "            Cmin = A_temp[2]\n",
        "            CTotal+=Cmin\n",
        "            encontrou = True\n",
        "            break\n",
        "\n",
        "        else:\n",
        "            if display: print(\"Diametro execdido... tentar outra aresta...\")\n",
        "            Ta.pop()\n",
        "\n",
        "        if display: print(\"Custo:\", CD, \"D =\", D)\n",
        "\n",
        "    Tv.append(v)\n",
        "    Q.remove(v)\n",
        "\n",
        "print(\"\\nD =\",D, \"Custo:\", CTotal)\n",
        "print(\"Solução:\", Ta)\n",
        ""
      ],
      "metadata": {
        "colab": {
          "base_uri": "https://localhost:8080/"
        },
        "id": "P8vMQoWNCNLg",
        "outputId": "425ea88f-5bb7-4821-83fc-58cfc3e0f71d"
      },
      "execution_count": 55,
      "outputs": [
        {
          "output_type": "stream",
          "name": "stdout",
          "text": [
            "\n",
            "Visitados: Tv: [5]    A visitar Q: [0, 1, 2, 3, 4, 6]\n",
            "[[5, 3, 5], [5, 4, 7]]\n",
            "Ta: [[5, 3, 5]]\n",
            "\n",
            "Visitados: Tv: [5, 3]    A visitar Q: [0, 1, 2, 4, 6]\n",
            "[[3, 4, 1], [3, 1, 4], [3, 0, 7], [5, 4, 7]]\n",
            "Ta: [[5, 3, 5], [3, 4, 1]]\n",
            "\n",
            "Visitados: Tv: [5, 3, 4]    A visitar Q: [0, 1, 2, 6]\n",
            "[[4, 1, 3], [3, 1, 4], [4, 2, 4], [3, 0, 7]]\n",
            "Ta: [[5, 3, 5], [3, 4, 1], [4, 1, 3]]\n",
            "\n",
            "Visitados: Tv: [5, 3, 4, 1]    A visitar Q: [0, 2, 6]\n",
            "[[1, 2, 1], [1, 0, 2], [4, 2, 4], [1, 6, 5], [3, 0, 7]]\n",
            "Ta: [[5, 3, 5], [3, 4, 1], [4, 1, 3], [1, 2, 1]]\n",
            "Diametro execdido... tentar outra aresta...\n",
            "Custo: 10 D = 4\n",
            "Ta: [[5, 3, 5], [3, 4, 1], [4, 1, 3], [1, 0, 2]]\n",
            "Diametro execdido... tentar outra aresta...\n",
            "Custo: 11 D = 4\n",
            "Ta: [[5, 3, 5], [3, 4, 1], [4, 1, 3], [4, 2, 4]]\n",
            "\n",
            "Visitados: Tv: [5, 3, 4, 1, 2]    A visitar Q: [0, 6]\n",
            "[[1, 0, 2], [2, 6, 4], [1, 6, 5], [3, 0, 7]]\n",
            "Ta: [[5, 3, 5], [3, 4, 1], [4, 1, 3], [4, 2, 4], [1, 0, 2]]\n",
            "Diametro execdido... tentar outra aresta...\n",
            "Custo: 11 D = 4\n",
            "Ta: [[5, 3, 5], [3, 4, 1], [4, 1, 3], [4, 2, 4], [2, 6, 4]]\n",
            "Diametro execdido... tentar outra aresta...\n",
            "Custo: 14 D = 4\n",
            "Ta: [[5, 3, 5], [3, 4, 1], [4, 1, 3], [4, 2, 4], [1, 6, 5]]\n",
            "Diametro execdido... tentar outra aresta...\n",
            "Custo: 14 D = 4\n",
            "Ta: [[5, 3, 5], [3, 4, 1], [4, 1, 3], [4, 2, 4], [3, 0, 7]]\n",
            "\n",
            "Visitados: Tv: [5, 3, 4, 1, 2, 0]    A visitar Q: [6]\n",
            "[[0, 6, 2], [2, 6, 4], [1, 6, 5]]\n",
            "Ta: [[5, 3, 5], [3, 4, 1], [4, 1, 3], [4, 2, 4], [3, 0, 7], [0, 6, 2]]\n",
            "\n",
            "D = 3 Custo: 22\n",
            "Solução: [[5, 3, 5], [3, 4, 1], [4, 1, 3], [4, 2, 4], [3, 0, 7], [0, 6, 2]]\n"
          ]
        }
      ]
    },
    {
      "cell_type": "code",
      "source": [],
      "metadata": {
        "colab": {
          "base_uri": "https://localhost:8080/"
        },
        "id": "ejZyoDsGCrus",
        "outputId": "640edd82-c194-4464-fb68-68b2378151ca"
      },
      "execution_count": 23,
      "outputs": [
        {
          "output_type": "execute_result",
          "data": {
            "text/plain": [
              "[0, 1, 2, 3, 4, 5, 6]"
            ]
          },
          "metadata": {},
          "execution_count": 23
        }
      ]
    },
    {
      "cell_type": "code",
      "execution_count": 40,
      "metadata": {
        "id": "7457843a"
      },
      "outputs": [],
      "source": [
        "import sys\n",
        "from collections import defaultdict\n",
        "from heapq import heappop, heappush\n",
        "\n",
        "def construir_grafo(vertices):\n",
        "    grafo = defaultdict(list)\n",
        "\n",
        "    for v in vertices:\n",
        "        u, v, peso = v\n",
        "        grafo[u].append((v, peso))\n",
        "        grafo[v].append((u, peso))\n",
        "\n",
        "    return grafo\n",
        "\n",
        "def dijkstra(grafo, origem):\n",
        "    distancia = defaultdict(lambda: sys.maxsize)\n",
        "    distancia[origem] = 0\n",
        "    num_arestas = defaultdict(int)\n",
        "    num_arestas[origem] = 0\n",
        "\n",
        "    fila = [(0, origem)]\n",
        "\n",
        "    while fila:\n",
        "        dist_u, u = heappop(fila)\n",
        "        for v, peso in grafo[u]:\n",
        "            dist_v = dist_u + peso\n",
        "            if dist_v < distancia[v]:\n",
        "                distancia[v] = dist_v\n",
        "                num_arestas[v] = num_arestas[u] + 1\n",
        "                heappush(fila, (dist_v, v))\n",
        "    return distancia, num_arestas\n",
        "\n",
        "def calcular_diametro(vertices):\n",
        "    grafo = construir_grafo(vertices)\n",
        "    diametro = 0\n",
        "    num_arestas_diametro = 0\n",
        "\n",
        "    for u in grafo:\n",
        "        distancia, num_arestas = dijkstra(grafo, u)\n",
        "        max_dist = max(distancia.values())\n",
        "        if max_dist > diametro:\n",
        "            diametro = max_dist\n",
        "            num_arestas_diametro = max(num_arestas.values())\n",
        "\n",
        "    return diametro, num_arestas_diametro"
      ]
    }
  ]
}